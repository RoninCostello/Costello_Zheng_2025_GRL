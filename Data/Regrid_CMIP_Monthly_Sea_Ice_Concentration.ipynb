{
 "cells": [
  {
   "cell_type": "markdown",
   "id": "7fb57962-d56e-48ae-bb18-0706497bb1c8",
   "metadata": {},
   "source": [
    "Regrid CMIP6 raw sea ice concentration files into a dataset more compatible with CMIP6 CALIPSO cloud data"
   ]
  },
  {
   "cell_type": "code",
   "execution_count": null,
   "id": "32335a4c-9a39-4fc5-915b-71ce91987cda",
   "metadata": {},
   "outputs": [],
   "source": [
    "import xarray as xr\n",
    "import numpy as np\n",
    "import numpy.ma as ma\n",
    "from scipy import spatial\n",
    "import glob\n",
    "import os"
   ]
  },
  {
   "cell_type": "code",
   "execution_count": null,
   "id": "4ce5d39a-ca88-41e0-8b98-b25cff3a7668",
   "metadata": {},
   "outputs": [],
   "source": [
    "#File pattern for sea ice data\n",
    "file_pattern = 'many_monthly_sea_ice_conc_files_from_the_same_model*.nc'\n",
    "\n",
    "# To exclude files that are part of 'file_pattern' if needed\n",
    "files = sorted([f for f in glob.glob(file_pattern) if 'example_text' not in f])\n",
    "\n",
    "# Open multiple files and combine along the time dimension\n",
    "f_selected = xr.open_mfdataset(files, combine='by_coords')\n",
    "f_selected = f_selected.sel(time=slice('2007-01-01', '2014-12-31'))\n",
    "\n",
    "# Prepare a list to store processed time slices\n",
    "processed_data = []\n",
    "\n",
    "# Loop through the filtered dataset and adjust longitude\n",
    "for i in range(f_selected.sizes['time']):\n",
    "    lon = f_selected.lon.values  # 'lon' instead of 'longitude'\n",
    "    lat = f_selected.lat.values  # 'lat' instead of 'latitude'\n",
    "    ice = f_selected.isel(time=i).siconc\n",
    "\n",
    "    # Adjust longitude values to be between -180 and 180\n",
    "    lon = (lon + 180) % 360 - 180\n",
    "    f_selected = f_selected.assign_coords(lon=lon).sortby('lon')\n",
    "    # Mask lat and lon properly with respect to ice data shape\n",
    "    # Use broadcasting with 2D (lat, lon) meshgrids\n",
    "    lon_grid, lat_grid = np.meshgrid(lon, lat)\n",
    "\n",
    "    # Convert the NumPy arrays to xarray.DataArray objects\n",
    "    lon_da = xr.DataArray(lon_grid, dims=['lat', 'lon'], coords={'lat': lat, 'lon': lon})\n",
    "    lat_da = xr.DataArray(lat_grid, dims=['lat', 'lon'], coords={'lat': lat, 'lon': lon})\n",
    "\n",
    "    # Apply the valid mask directly in xarray, and use it for ice concentration\n",
    "    valid_mask = (lon_da < 1e+36) & (lat_da < 1e+36)\n",
    "\n",
    "    # Apply the mask to the ice concentration data using xarray\n",
    "    ice_filtered = ice.where(valid_mask, drop=True)\n",
    "\n",
    "    # Create a DataArray for the processed time slice\n",
    "    processed_slice = xr.DataArray(\n",
    "        data=ice_filtered.values,\n",
    "        coords={'time': f_selected.time.isel(time=i), 'lat': ice_filtered.lat, 'lon': ice_filtered.lon},\n",
    "        dims=['lat', 'lon']\n",
    "    )\n",
    "    \n",
    "    # Append the processed slice to the list\n",
    "    processed_data.append(processed_slice)\n",
    "    \n",
    "# Combine all processed time slices into a single dataset\n",
    "final_ice_data = xr.concat(processed_data, dim='time')\n",
    "\n",
    "# Save the combined dataset to a new file\n",
    "output_filename = 'example_regridded_sea_ice_dataset.nc'\n",
    "final_ice_data.to_netcdf(output_filename)\n",
    "print('Finish processing:' + output_filename)"
   ]
  }
 ],
 "metadata": {
  "kernelspec": {
   "display_name": "Python 3 (ipykernel)",
   "language": "python",
   "name": "python3"
  },
  "language_info": {
   "codemirror_mode": {
    "name": "ipython",
    "version": 3
   },
   "file_extension": ".py",
   "mimetype": "text/x-python",
   "name": "python",
   "nbconvert_exporter": "python",
   "pygments_lexer": "ipython3",
   "version": "3.10.16"
  }
 },
 "nbformat": 4,
 "nbformat_minor": 5
}
